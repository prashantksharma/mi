{
  "nbformat": 4,
  "nbformat_minor": 0,
  "metadata": {
    "colab": {
      "name": "Keras_LSTM_TPU.ipynb",
      "version": "0.3.2",
      "provenance": [],
      "collapsed_sections": [],
      "include_colab_link": true
    },
    "kernelspec": {
      "name": "python3",
      "display_name": "Python 3"
    },
    "accelerator": "TPU"
  },
  "cells": [
    {
      "cell_type": "markdown",
      "metadata": {
        "id": "view-in-github",
        "colab_type": "text"
      },
      "source": [
        "<a href=\"https://colab.research.google.com/github/prashantksharma/mi/blob/master/Keras_LSTM_TPU.ipynb\" target=\"_parent\"><img src=\"https://colab.research.google.com/assets/colab-badge.svg\" alt=\"Open In Colab\"/></a>"
      ]
    },
    {
      "metadata": {
        "id": "CB43mV-TD1vb",
        "colab_type": "text"
      },
      "cell_type": "markdown",
      "source": [
        "#  Tutorial - [How to train Keras model x20 times faster with TPU for free](https://www.dlology.com/blog/how-to-train-keras-model-x20-times-faster-with-tpu-for-free/)"
      ]
    },
    {
      "metadata": {
        "id": "ya06BE0ZU526",
        "colab_type": "code",
        "colab": {}
      },
      "cell_type": "code",
      "source": [
        "import tensorflow as tf\n",
        "from tensorflow.keras.datasets import imdb\n",
        "from tensorflow.keras.preprocessing import sequence\n",
        "from tensorflow.python.keras.layers import Input, LSTM, Bidirectional, Dense, Embedding"
      ],
      "execution_count": 0,
      "outputs": []
    },
    {
      "metadata": {
        "id": "_uSZchXTVOHr",
        "colab_type": "code",
        "colab": {}
      },
      "cell_type": "code",
      "source": [
        "\n",
        "# Number of words to consider as features\n",
        "max_features = 10000\n",
        "# Cut texts after this number of words (among top max_features most common words)\n",
        "maxlen = 500\n",
        "\n",
        "# Load data\n",
        "(x_train, y_train), (x_test, y_test) = imdb.load_data(num_words=max_features)\n",
        "\n",
        "# Reverse sequences\n",
        "x_train = [x[::-1] for x in x_train]\n",
        "x_test = [x[::-1] for x in x_test]\n",
        "\n",
        "# Pad sequences\n",
        "x_train = sequence.pad_sequences(x_train, maxlen=maxlen)\n",
        "x_test = sequence.pad_sequences(x_test, maxlen=maxlen)"
      ],
      "execution_count": 0,
      "outputs": []
    },
    {
      "metadata": {
        "id": "p35nSfjbVVBE",
        "colab_type": "code",
        "colab": {}
      },
      "cell_type": "code",
      "source": [
        "def make_model(batch_size=None):\n",
        "  source = Input(shape=(maxlen,), batch_size=batch_size, dtype=tf.int32, name='Input')\n",
        "  embedding = Embedding(input_dim=max_features, output_dim=128, name='Embedding')(source)\n",
        "  # lstm = Bidirectional(LSTM(32, name = 'LSTM'), name='Bidirectional')(embedding)\n",
        "  lstm = LSTM(32, name = 'LSTM')(embedding)\n",
        "  predicted_var = Dense(1, activation='sigmoid', name='Output')(lstm)\n",
        "  model = tf.keras.Model(inputs=[source], outputs=[predicted_var])\n",
        "  model.compile(\n",
        "      optimizer=tf.train.RMSPropOptimizer(learning_rate=0.01),\n",
        "      loss='binary_crossentropy',\n",
        "      metrics=['acc'])\n",
        "  return model\n",
        "   "
      ],
      "execution_count": 0,
      "outputs": []
    },
    {
      "metadata": {
        "id": "bivVZS0jZhxg",
        "colab_type": "code",
        "outputId": "cdb88d13-c5f8-424e-8c18-a9c7440833ca",
        "colab": {
          "base_uri": "https://localhost:8080/",
          "height": 290
        }
      },
      "cell_type": "code",
      "source": [
        "tf.keras.backend.clear_session()\n",
        "training_model = make_model(batch_size = 128)\n",
        "training_model.summary()"
      ],
      "execution_count": 0,
      "outputs": [
        {
          "output_type": "stream",
          "text": [
            "_________________________________________________________________\n",
            "Layer (type)                 Output Shape              Param #   \n",
            "=================================================================\n",
            "Input (InputLayer)           (128, 500)                0         \n",
            "_________________________________________________________________\n",
            "Embedding (Embedding)        (128, 500, 128)           1280000   \n",
            "_________________________________________________________________\n",
            "LSTM (LSTM)                  (128, 32)                 20608     \n",
            "_________________________________________________________________\n",
            "Output (Dense)               (128, 1)                  33        \n",
            "=================================================================\n",
            "Total params: 1,300,641\n",
            "Trainable params: 1,300,641\n",
            "Non-trainable params: 0\n",
            "_________________________________________________________________\n"
          ],
          "name": "stdout"
        }
      ]
    },
    {
      "metadata": {
        "id": "xeGmIQX2aJvw",
        "colab_type": "code",
        "outputId": "13bae0f0-d21c-4738-bed9-0472f01f389a",
        "colab": {
          "base_uri": "https://localhost:8080/",
          "height": 637
        }
      },
      "cell_type": "code",
      "source": [
        "import os\n",
        "# This address identifies the TPU we'll use when configuring TensorFlow.\n",
        "TPU_WORKER = 'grpc://' + os.environ['COLAB_TPU_ADDR']\n",
        "tf.logging.set_verbosity(tf.logging.INFO)\n",
        "\n",
        "tpu_model = tf.contrib.tpu.keras_to_tpu_model(\n",
        "    training_model,\n",
        "    strategy=tf.contrib.tpu.TPUDistributionStrategy(\n",
        "        tf.contrib.cluster_resolver.TPUClusterResolver(TPU_WORKER)))\n",
        "\n",
        "tpu_model.summary()"
      ],
      "execution_count": 0,
      "outputs": [
        {
          "output_type": "stream",
          "text": [
            "INFO:tensorflow:Querying Tensorflow master (b'grpc://10.102.168.98:8470') for TPU system metadata.\n",
            "INFO:tensorflow:Found TPU system:\n",
            "INFO:tensorflow:*** Num TPU Cores: 8\n",
            "INFO:tensorflow:*** Num TPU Workers: 1\n",
            "INFO:tensorflow:*** Num TPU Cores Per Worker: 8\n",
            "INFO:tensorflow:*** Available Device: _DeviceAttributes(/job:worker/replica:0/task:0/device:CPU:0, CPU, -1, 18360116929208696288)\n",
            "INFO:tensorflow:*** Available Device: _DeviceAttributes(/job:worker/replica:0/task:0/device:XLA_CPU:0, XLA_CPU, 17179869184, 2556736422492173676)\n",
            "INFO:tensorflow:*** Available Device: _DeviceAttributes(/job:worker/replica:0/task:0/device:XLA_GPU:0, XLA_GPU, 17179869184, 1785311708648481474)\n",
            "INFO:tensorflow:*** Available Device: _DeviceAttributes(/job:worker/replica:0/task:0/device:TPU:0, TPU, 17179869184, 7274077856663094447)\n",
            "INFO:tensorflow:*** Available Device: _DeviceAttributes(/job:worker/replica:0/task:0/device:TPU:1, TPU, 17179869184, 1661440383431074741)\n",
            "INFO:tensorflow:*** Available Device: _DeviceAttributes(/job:worker/replica:0/task:0/device:TPU:2, TPU, 17179869184, 14623323852752406296)\n",
            "INFO:tensorflow:*** Available Device: _DeviceAttributes(/job:worker/replica:0/task:0/device:TPU:3, TPU, 17179869184, 5817457218168899080)\n",
            "INFO:tensorflow:*** Available Device: _DeviceAttributes(/job:worker/replica:0/task:0/device:TPU:4, TPU, 17179869184, 16750153408583399102)\n",
            "INFO:tensorflow:*** Available Device: _DeviceAttributes(/job:worker/replica:0/task:0/device:TPU:5, TPU, 17179869184, 3948502002631844292)\n",
            "INFO:tensorflow:*** Available Device: _DeviceAttributes(/job:worker/replica:0/task:0/device:TPU:6, TPU, 17179869184, 2090378400258409346)\n",
            "INFO:tensorflow:*** Available Device: _DeviceAttributes(/job:worker/replica:0/task:0/device:TPU:7, TPU, 17179869184, 4269657369810421727)\n",
            "INFO:tensorflow:*** Available Device: _DeviceAttributes(/job:worker/replica:0/task:0/device:TPU_SYSTEM:0, TPU_SYSTEM, 17179869184, 9355158762271464432)\n",
            "WARNING:tensorflow:tpu_model (from tensorflow.contrib.tpu.python.tpu.keras_support) is experimental and may change or be removed at any time, and without warning.\n",
            "_________________________________________________________________\n",
            "Layer (type)                 Output Shape              Param #   \n",
            "=================================================================\n",
            "Input (InputLayer)           (128, 500)                0         \n",
            "_________________________________________________________________\n",
            "Embedding (Embedding)        (128, 500, 128)           1280000   \n",
            "_________________________________________________________________\n",
            "LSTM (LSTM)                  (128, 32)                 20608     \n",
            "_________________________________________________________________\n",
            "Output (Dense)               (128, 1)                  33        \n",
            "=================================================================\n",
            "Total params: 1,300,641\n",
            "Trainable params: 1,300,641\n",
            "Non-trainable params: 0\n",
            "_________________________________________________________________\n"
          ],
          "name": "stdout"
        }
      ]
    },
    {
      "metadata": {
        "id": "XlSm1vd5bteH",
        "colab_type": "code",
        "outputId": "b6b22c54-c7c4-47f9-ada7-b045e4263691",
        "colab": {
          "base_uri": "https://localhost:8080/",
          "height": 1201
        }
      },
      "cell_type": "code",
      "source": [
        "import time\n",
        "start_time = time.time()\n",
        "\n",
        "history = tpu_model.fit(x_train, y_train,\n",
        "                    epochs=20,\n",
        "                    batch_size=128 * 8,\n",
        "                    validation_split=0.2)\n",
        "tpu_model.save_weights('./tpu_model.h5', overwrite=True)\n",
        "\n",
        "print(\"--- %s seconds ---\" % (time.time() - start_time))\n"
      ],
      "execution_count": 0,
      "outputs": [
        {
          "output_type": "stream",
          "text": [
            "Train on 25000 samples, validate on 5000 samples\n",
            "Epoch 1/20\n",
            "INFO:tensorflow:New input shapes; (re-)compiling: mode=train, [TensorSpec(shape=(128, 500), dtype=tf.int32, name='Input0'), TensorSpec(shape=(128, 1), dtype=tf.float32, name='Output_target_10')]\n",
            "INFO:tensorflow:Overriding default placeholder.\n",
            "INFO:tensorflow:Remapping placeholder for Input\n",
            "INFO:tensorflow:Started compiling\n",
            "INFO:tensorflow:Finished compiling. Time elapsed: 7.792444467544556 secs\n",
            "INFO:tensorflow:Setting weights on TPU model.\n",
            "23552/25000 [===========================>..] - ETA: 0s - loss: 0.6932 - acc: 0.4854INFO:tensorflow:New input shapes; (re-)compiling: mode=train, [TensorSpec(shape=(53, 500), dtype=tf.int32, name='Input0'), TensorSpec(shape=(53, 1), dtype=tf.float32, name='Output_target_10')]\n",
            "INFO:tensorflow:Overriding default placeholder.\n",
            "INFO:tensorflow:Remapping placeholder for Input\n",
            "INFO:tensorflow:Started compiling\n",
            "INFO:tensorflow:Finished compiling. Time elapsed: 7.856823205947876 secs\n",
            "24576/25000 [============================>.] - ETA: 0s - loss: 0.6932 - acc: 0.4857INFO:tensorflow:New input shapes; (re-)compiling: mode=eval, [TensorSpec(shape=(128, 500), dtype=tf.int32, name='Input0'), TensorSpec(shape=(128, 1), dtype=tf.float32, name='Output_target_10')]\n",
            "INFO:tensorflow:Overriding default placeholder.\n",
            "INFO:tensorflow:Remapping placeholder for Input\n",
            "INFO:tensorflow:Started compiling\n",
            "INFO:tensorflow:Finished compiling. Time elapsed: 7.14560079574585 secs\n",
            "INFO:tensorflow:New input shapes; (re-)compiling: mode=eval, [TensorSpec(shape=(113, 500), dtype=tf.int32, name='Input0'), TensorSpec(shape=(113, 1), dtype=tf.float32, name='Output_target_10')]\n",
            "INFO:tensorflow:Overriding default placeholder.\n",
            "INFO:tensorflow:Remapping placeholder for Input\n",
            "INFO:tensorflow:Started compiling\n",
            "INFO:tensorflow:Finished compiling. Time elapsed: 7.509530305862427 secs\n",
            "25000/25000 [==============================] - 49s 2ms/step - loss: 0.6932 - acc: 0.4877 - val_loss: 0.6935 - val_acc: 0.4768\n",
            "Epoch 2/20\n",
            "25000/25000 [==============================] - 5s 212us/step - loss: 0.6934 - acc: 0.4880 - val_loss: 0.6939 - val_acc: 0.4688\n",
            "Epoch 3/20\n",
            "25000/25000 [==============================] - 5s 210us/step - loss: 0.6934 - acc: 0.4941 - val_loss: 0.6935 - val_acc: 0.4720\n",
            "Epoch 4/20\n",
            "25000/25000 [==============================] - 5s 211us/step - loss: 0.6929 - acc: 0.5258 - val_loss: 0.6959 - val_acc: 0.4816\n",
            "Epoch 5/20\n",
            "25000/25000 [==============================] - 5s 211us/step - loss: 0.6916 - acc: 0.5366 - val_loss: 0.6878 - val_acc: 0.5632\n",
            "Epoch 6/20\n",
            "25000/25000 [==============================] - 5s 213us/step - loss: 0.6986 - acc: 0.5629 - val_loss: 0.6649 - val_acc: 0.6176\n",
            "Epoch 7/20\n",
            "25000/25000 [==============================] - 5s 211us/step - loss: 0.6766 - acc: 0.6198 - val_loss: 0.5964 - val_acc: 0.6784\n",
            "Epoch 8/20\n",
            "25000/25000 [==============================] - 5s 211us/step - loss: 0.6172 - acc: 0.6819 - val_loss: 0.4851 - val_acc: 0.7968\n",
            "Epoch 9/20\n",
            "25000/25000 [==============================] - 5s 212us/step - loss: 0.5606 - acc: 0.7242 - val_loss: 0.4526 - val_acc: 0.8032\n",
            "Epoch 10/20\n",
            "25000/25000 [==============================] - 5s 214us/step - loss: 0.5174 - acc: 0.7584 - val_loss: 0.3597 - val_acc: 0.8800\n",
            "Epoch 11/20\n",
            "25000/25000 [==============================] - 5s 212us/step - loss: 0.4223 - acc: 0.8208 - val_loss: 0.3895 - val_acc: 0.8432\n",
            "Epoch 12/20\n",
            "25000/25000 [==============================] - 5s 212us/step - loss: 0.3900 - acc: 0.8314 - val_loss: 0.2518 - val_acc: 0.9184\n",
            "Epoch 13/20\n",
            "25000/25000 [==============================] - 5s 212us/step - loss: 0.3318 - acc: 0.8714 - val_loss: 0.2436 - val_acc: 0.9232\n",
            "Epoch 14/20\n",
            "25000/25000 [==============================] - 5s 211us/step - loss: 0.2915 - acc: 0.8896 - val_loss: 0.1800 - val_acc: 0.9472\n",
            "Epoch 15/20\n",
            "25000/25000 [==============================] - 5s 210us/step - loss: 0.2366 - acc: 0.9130 - val_loss: 0.1512 - val_acc: 0.9584\n",
            "Epoch 16/20\n",
            "25000/25000 [==============================] - 5s 212us/step - loss: 0.2028 - acc: 0.9219 - val_loss: 0.1406 - val_acc: 0.9600\n",
            "Epoch 17/20\n",
            "25000/25000 [==============================] - 5s 209us/step - loss: 0.1781 - acc: 0.9370 - val_loss: 0.0939 - val_acc: 0.9792\n",
            "Epoch 18/20\n",
            "25000/25000 [==============================] - 5s 212us/step - loss: 0.1444 - acc: 0.9523 - val_loss: 0.0793 - val_acc: 0.9824\n",
            "Epoch 19/20\n",
            "25000/25000 [==============================] - 5s 212us/step - loss: 0.1040 - acc: 0.9638 - val_loss: 0.0750 - val_acc: 0.9744\n",
            "Epoch 20/20\n",
            "25000/25000 [==============================] - 5s 212us/step - loss: 0.1026 - acc: 0.9613 - val_loss: 0.1142 - val_acc: 0.9520\n",
            "INFO:tensorflow:Copying TPU weights to the CPU\n",
            "--- 150.5865888595581 seconds ---\n"
          ],
          "name": "stdout"
        }
      ]
    },
    {
      "metadata": {
        "id": "tLjeqllMZzv5",
        "colab_type": "code",
        "colab": {}
      },
      "cell_type": "code",
      "source": [
        "# history = tpu_model.fit(x_train, y_train,\n",
        "#                     epochs=20,\n",
        "#                     batch_size=128 * 8,\n",
        "#                     validation_split=0.2)\n",
        "# tpu_model.save_weights('./tpu_model.h5', overwrite=True)"
      ],
      "execution_count": 0,
      "outputs": []
    },
    {
      "metadata": {
        "id": "gpcLs6PYatf5",
        "colab_type": "code",
        "outputId": "5bea0ef6-b5cb-4776-8143-e6b1e1c53cf3",
        "colab": {
          "base_uri": "https://localhost:8080/",
          "height": 290
        }
      },
      "cell_type": "code",
      "source": [
        "inferencing_model = make_model(batch_size=None)\n",
        "inferencing_model.load_weights('./tpu_model.h5')\n",
        "inferencing_model.summary()"
      ],
      "execution_count": 0,
      "outputs": [
        {
          "output_type": "stream",
          "text": [
            "_________________________________________________________________\n",
            "Layer (type)                 Output Shape              Param #   \n",
            "=================================================================\n",
            "Input (InputLayer)           (None, 500)               0         \n",
            "_________________________________________________________________\n",
            "Embedding (Embedding)        (None, 500, 128)          1280000   \n",
            "_________________________________________________________________\n",
            "LSTM (LSTM)                  (None, 32)                20608     \n",
            "_________________________________________________________________\n",
            "Output (Dense)               (None, 1)                 33        \n",
            "=================================================================\n",
            "Total params: 1,300,641\n",
            "Trainable params: 1,300,641\n",
            "Non-trainable params: 0\n",
            "_________________________________________________________________\n"
          ],
          "name": "stdout"
        }
      ]
    },
    {
      "metadata": {
        "id": "KZyqMpMecAGp",
        "colab_type": "code",
        "colab": {}
      },
      "cell_type": "code",
      "source": [
        ""
      ],
      "execution_count": 0,
      "outputs": []
    },
    {
      "metadata": {
        "id": "2cqqkN84dJQk",
        "colab_type": "code",
        "outputId": "8c93aa17-bbb7-41fd-ca88-c2d35a517cec",
        "colab": {
          "base_uri": "https://localhost:8080/",
          "height": 54
        }
      },
      "cell_type": "code",
      "source": [
        "inferencing_model.evaluate(x_test, y_test)"
      ],
      "execution_count": 0,
      "outputs": [
        {
          "output_type": "stream",
          "text": [
            "25000/25000 [==============================] - 83s 3ms/step\n"
          ],
          "name": "stdout"
        },
        {
          "output_type": "execute_result",
          "data": {
            "text/plain": [
              "[0.6060782189846039, 0.824]"
            ]
          },
          "metadata": {
            "tags": []
          },
          "execution_count": 23
        }
      ]
    },
    {
      "metadata": {
        "id": "XMR_TncEeFKx",
        "colab_type": "code",
        "outputId": "9b56daea-8dcd-4b1a-8bcd-938f92fe8d3a",
        "colab": {
          "base_uri": "https://localhost:8080/",
          "height": 165
        }
      },
      "cell_type": "code",
      "source": [
        "tpu_model.evaluate(x_test, y_test, batch_size=128 * 8)"
      ],
      "execution_count": 0,
      "outputs": [
        {
          "output_type": "stream",
          "text": [
            "24576/25000 [============================>.] - ETA: 0sINFO:tensorflow:New input shapes; (re-)compiling: mode=eval, [TensorSpec(shape=(53, 500), dtype=tf.int32, name='Input0'), TensorSpec(shape=(53, 1), dtype=tf.float32, name='Output_target_10')]\n",
            "INFO:tensorflow:Overriding default placeholder.\n",
            "INFO:tensorflow:Remapping placeholder for Input\n",
            "INFO:tensorflow:Started compiling\n",
            "INFO:tensorflow:Finished compiling. Time elapsed: 8.719648122787476 secs\n",
            "25000/25000 [==============================] - 12s 482us/step\n"
          ],
          "name": "stdout"
        },
        {
          "output_type": "execute_result",
          "data": {
            "text/plain": [
              "[0.608636932144165, 0.8271999996948243]"
            ]
          },
          "metadata": {
            "tags": []
          },
          "execution_count": 24
        }
      ]
    },
    {
      "metadata": {
        "id": "PYCdyFggnKAU",
        "colab_type": "code",
        "outputId": "d68e3b51-e570-4d1c-d9d4-538ab383e7fe",
        "colab": {
          "base_uri": "https://localhost:8080/",
          "height": 54
        }
      },
      "cell_type": "code",
      "source": [
        "tpu_model.evaluate(x_test, y_test, batch_size=128 * 8)"
      ],
      "execution_count": 0,
      "outputs": [
        {
          "output_type": "stream",
          "text": [
            "25000/25000 [==============================] - 2s 94us/step\n"
          ],
          "name": "stdout"
        },
        {
          "output_type": "execute_result",
          "data": {
            "text/plain": [
              "[0.608636932144165, 0.8271999996948243]"
            ]
          },
          "metadata": {
            "tags": []
          },
          "execution_count": 25
        }
      ]
    },
    {
      "metadata": {
        "id": "CanGKZdUeOKf",
        "colab_type": "code",
        "outputId": "c39825ad-9357-4ec2-f8af-9328b0fc6083",
        "colab": {
          "base_uri": "https://localhost:8080/",
          "height": 199
        }
      },
      "cell_type": "code",
      "source": [
        "inferencing_model.predict(x_test[:10])> 0.5"
      ],
      "execution_count": 0,
      "outputs": [
        {
          "output_type": "execute_result",
          "data": {
            "text/plain": [
              "array([[False],\n",
              "       [ True],\n",
              "       [ True],\n",
              "       [ True],\n",
              "       [ True],\n",
              "       [ True],\n",
              "       [ True],\n",
              "       [False],\n",
              "       [ True],\n",
              "       [ True]])"
            ]
          },
          "metadata": {
            "tags": []
          },
          "execution_count": 26
        }
      ]
    },
    {
      "metadata": {
        "id": "gVeRjm5AeW-w",
        "colab_type": "code",
        "outputId": "1db03650-5709-449c-f0dc-d863b47c61f5",
        "colab": {
          "base_uri": "https://localhost:8080/",
          "height": 35
        }
      },
      "cell_type": "code",
      "source": [
        "y_test[:10]"
      ],
      "execution_count": 0,
      "outputs": [
        {
          "output_type": "execute_result",
          "data": {
            "text/plain": [
              "array([0, 1, 1, 0, 1, 1, 1, 0, 0, 1])"
            ]
          },
          "metadata": {
            "tags": []
          },
          "execution_count": 27
        }
      ]
    },
    {
      "metadata": {
        "id": "tIw95Yc0eeeY",
        "colab_type": "code",
        "outputId": "80a74a4a-664d-4937-b242-6a94303e9cca",
        "colab": {
          "base_uri": "https://localhost:8080/",
          "height": 235
        }
      },
      "cell_type": "code",
      "source": [
        "tpu_model.predict_on_batch(x_train[:128 * 8])>0.5"
      ],
      "execution_count": 0,
      "outputs": [
        {
          "output_type": "stream",
          "text": [
            "INFO:tensorflow:New input shapes; (re-)compiling: mode=infer, [TensorSpec(shape=(128, 500), dtype=tf.int32, name='Input0')]\n",
            "INFO:tensorflow:Overriding default placeholder.\n",
            "INFO:tensorflow:Remapping placeholder for Input\n",
            "INFO:tensorflow:Started compiling\n",
            "INFO:tensorflow:Finished compiling. Time elapsed: 7.4768149852752686 secs\n"
          ],
          "name": "stdout"
        },
        {
          "output_type": "execute_result",
          "data": {
            "text/plain": [
              "array([[ True],\n",
              "       [False],\n",
              "       [False],\n",
              "       ...,\n",
              "       [False],\n",
              "       [ True],\n",
              "       [False]])"
            ]
          },
          "metadata": {
            "tags": []
          },
          "execution_count": 28
        }
      ]
    },
    {
      "metadata": {
        "id": "EiQqm2R_DvIV",
        "colab_type": "text"
      },
      "cell_type": "markdown",
      "source": [
        "## Download the trained model weights to your local file system"
      ]
    },
    {
      "metadata": {
        "id": "UzMykUsdDjiD",
        "colab_type": "code",
        "colab": {}
      },
      "cell_type": "code",
      "source": [
        "from google.colab import files\n",
        "\n",
        "files.download('./tpu_model.h5')"
      ],
      "execution_count": 0,
      "outputs": []
    },
    {
      "metadata": {
        "id": "apwRGvwWDnau",
        "colab_type": "code",
        "colab": {}
      },
      "cell_type": "code",
      "source": [
        ""
      ],
      "execution_count": 0,
      "outputs": []
    }
  ]
}