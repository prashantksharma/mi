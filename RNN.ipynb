{
 "cells": [
  {
   "cell_type": "markdown",
   "metadata": {},
   "source": [
    "# Recurrent Neural Network\n",
    "Numpy implementation of binary addition in RNN.\n",
    "This code is based on [iamtrask's github.io](https://iamtrask.github.io/2015/11/15/anyone-can-code-lstm/)."
   ]
  },
  {
   "cell_type": "code",
   "execution_count": 1,
   "metadata": {},
   "outputs": [],
   "source": [
    "import numpy as np\n",
    "import matplotlib.pyplot as plt\n",
    "%matplotlib inline"
   ]
  },
  {
   "cell_type": "markdown",
   "metadata": {},
   "source": [
    "## Data Generation\n",
    "\n",
    "Generate the binary array less than 256."
   ]
  },
  {
   "cell_type": "code",
   "execution_count": 2,
   "metadata": {},
   "outputs": [],
   "source": [
    "BIN_DIM = 8\n",
    "INPUT_DIM = 2\n",
    "HIDDEN_DIM = 16\n",
    "OUTPUT_DIM = 1\n",
    "\n",
    "ALPHA = 0.1\n",
    "ITER_NUM = 10000\n",
    "LOG_ITER = ITER_NUM // 10\n",
    "PLOT_ITER = ITER_NUM // 200"
   ]
  },
  {
   "cell_type": "code",
   "execution_count": 3,
   "metadata": {},
   "outputs": [],
   "source": [
    "largest = pow(2, BIN_DIM)\n",
    "decimal = np.array([range(largest)]).astype(np.uint8).T\n",
    "binary = np.unpackbits(decimal, axis=1)"
   ]
  },
  {
   "cell_type": "markdown",
   "metadata": {},
   "source": [
    "## Prepare weights and deltas\n",
    "Prepare weight and delta values to use in the optimization process."
   ]
  },
  {
   "cell_type": "code",
   "execution_count": 4,
   "metadata": {},
   "outputs": [],
   "source": [
    "# weight values\n",
    "w0 = np.random.normal(0, 1, [INPUT_DIM, HIDDEN_DIM])\n",
    "w1 = np.random.normal(0, 1, [HIDDEN_DIM, OUTPUT_DIM])\n",
    "wh = np.random.normal(0, 2, [HIDDEN_DIM, HIDDEN_DIM])"
   ]
  },
  {
   "cell_type": "code",
   "execution_count": 5,
   "metadata": {},
   "outputs": [],
   "source": [
    "# delta values\n",
    "d0 = np.zeros_like(w0)\n",
    "d1 = np.zeros_like(w1)\n",
    "dh = np.zeros_like(wh)"
   ]
  },
  {
   "cell_type": "code",
   "execution_count": 6,
   "metadata": {},
   "outputs": [],
   "source": [
    "errs = list()\n",
    "accs = list()\n",
    "\n",
    "error = 0\n",
    "accuracy = 0"
   ]
  },
  {
   "cell_type": "markdown",
   "metadata": {},
   "source": [
    "## Training\n",
    "Training binary addition in RNN with Backpropagation Through Time."
   ]
  },
  {
   "cell_type": "code",
   "execution_count": 7,
   "metadata": {},
   "outputs": [],
   "source": [
    "def sigmoid(x):\n",
    "    return 1 / (1 + np.exp(-x))\n",
    "\n",
    "def deriv_sigmoid(out):\n",
    "    return out * (1 - out)\n",
    "\n",
    "def bin2dec(b):\n",
    "    out = 0\n",
    "    for i, x in enumerate(b[::-1]):\n",
    "        out += x * pow(2, i)\n",
    "    \n",
    "    return out"
   ]
  },
  {
   "cell_type": "code",
   "execution_count": 8,
   "metadata": {},
   "outputs": [
    {
     "name": "stdout",
     "output_type": "stream",
     "text": [
      "Iter 0\n",
      "Error : [4.39543196]\n",
      "Pred : [1 1 1 1 1 1 1 1]\n",
      "True : [0 0 1 0 0 0 1 1]\n",
      "28 + 7 = 255\n",
      "----------\n",
      "Iter 1000\n",
      "Error : [3.60581028]\n",
      "Pred : [0 0 0 0 0 0 0 0]\n",
      "True : [0 0 0 0 1 0 0 0]\n",
      "4 + 4 = 0\n",
      "----------\n",
      "Iter 2000\n",
      "Error : [3.64097226]\n",
      "Pred : [0 1 0 1 1 1 1 1]\n",
      "True : [0 1 0 1 0 1 0 1]\n",
      "31 + 54 = 95\n",
      "----------\n",
      "Iter 3000\n",
      "Error : [3.73773601]\n",
      "Pred : [0 0 0 1 1 1 1 1]\n",
      "True : [1 0 0 1 1 0 0 1]\n",
      "73 + 80 = 31\n",
      "----------\n",
      "Iter 4000\n",
      "Error : [3.53626904]\n",
      "Pred : [0 1 1 0 0 0 0 1]\n",
      "True : [0 1 0 0 1 0 0 1]\n",
      "22 + 51 = 97\n",
      "----------\n",
      "Iter 5000\n",
      "Error : [4.13847191]\n",
      "Pred : [1 1 1 1 1 1 1 0]\n",
      "True : [1 0 0 0 0 1 0 0]\n",
      "121 + 11 = 254\n",
      "----------\n",
      "Iter 6000\n",
      "Error : [3.28051614]\n",
      "Pred : [1 1 1 0 1 0 1 0]\n",
      "True : [1 0 0 0 1 0 1 0]\n",
      "81 + 57 = 234\n",
      "----------\n",
      "Iter 7000\n",
      "Error : [3.46969811]\n",
      "Pred : [0 1 1 0 0 0 0 1]\n",
      "True : [0 1 1 1 1 1 0 1]\n",
      "95 + 30 = 97\n",
      "----------\n",
      "Iter 8000\n",
      "Error : [2.82404617]\n",
      "Pred : [1 1 0 0 0 1 0 0]\n",
      "True : [1 0 0 0 0 1 1 0]\n",
      "25 + 109 = 196\n",
      "----------\n",
      "Iter 9000\n",
      "Error : [3.1075054]\n",
      "Pred : [1 0 0 1 0 0 0 0]\n",
      "True : [1 1 0 1 1 0 1 0]\n",
      "107 + 111 = 144\n",
      "----------\n",
      "Iter 10000\n",
      "Error : [1.13378172]\n",
      "Pred : [1 0 0 0 0 1 1 1]\n",
      "True : [1 0 0 0 0 1 1 1]\n",
      "114 + 21 = 135\n",
      "----------\n"
     ]
    }
   ],
   "source": [
    "for i in range(ITER_NUM + 1):\n",
    "    # a + b = c\n",
    "    a_dec = np.random.randint(largest / 2)\n",
    "    b_dec = np.random.randint(largest / 2)\n",
    "    c_dec = a_dec + b_dec\n",
    "    \n",
    "    a_bin = binary[a_dec]\n",
    "    b_bin = binary[b_dec]\n",
    "    c_bin = binary[c_dec]\n",
    "    \n",
    "    pred = np.zeros_like(c_bin)\n",
    "    \n",
    "    overall_err = 0 # total error in the whole calculation process.\n",
    "    \n",
    "    output_deltas = list()\n",
    "    hidden_values = list()\n",
    "    hidden_values.append(np.zeros(HIDDEN_DIM))\n",
    "    \n",
    "    future_delta = np.zeros(HIDDEN_DIM)\n",
    "    \n",
    "    # forward propagation\n",
    "    for pos in range(BIN_DIM)[::-1]:\n",
    "        X = np.array([[a_bin[pos], b_bin[pos]]]) # shape=(1, 2)\n",
    "        Y = np.array([[c_bin[pos]]]) # shape=(1, 1)\n",
    "        \n",
    "        hidden = sigmoid(np.dot(X, w0) + np.dot(hidden_values[-1], wh))\n",
    "        output = sigmoid(np.dot(hidden, w1))\n",
    "        \n",
    "        pred[pos] = np.round(output[0][0])\n",
    "        \n",
    "        # squared mean error\n",
    "        output_err = Y - output\n",
    "        output_deltas.append(output_err * deriv_sigmoid(output))\n",
    "        hidden_values.append(hidden)\n",
    "        \n",
    "        overall_err += np.abs(output_err[0])\n",
    "    \n",
    "    # backpropagation through time\n",
    "    for pos in range(BIN_DIM):\n",
    "        X = np.array([[a_bin[pos], b_bin[pos]]])\n",
    "        \n",
    "        hidden = hidden_values[-(pos + 1)]\n",
    "        prev_hidden = hidden_values[-(pos + 2)]\n",
    "        \n",
    "        output_delta = output_deltas[-(pos + 1)]\n",
    "        hidden_delta = (np.dot(future_delta, wh.T) + np.dot(output_delta, w1.T)) * deriv_sigmoid(hidden)\n",
    "        \n",
    "        d1 += np.dot(np.atleast_2d(hidden).T, output_delta)\n",
    "        dh += np.dot(np.atleast_2d(prev_hidden).T, hidden_delta)\n",
    "        d0 += np.dot(X.T, hidden_delta)\n",
    "\n",
    "        future_delta = hidden_delta \n",
    "    \n",
    "    w1 += ALPHA * d1\n",
    "    w0 += ALPHA * d0\n",
    "    wh += ALPHA * dh\n",
    "    \n",
    "    d1 *= 0\n",
    "    d0 *= 0\n",
    "    dh *= 0\n",
    "    \n",
    "    error += overall_err\n",
    "    if (bin2dec(pred) == c_dec):\n",
    "        accuracy += 1\n",
    "        \n",
    "    if (i % PLOT_ITER == 0):\n",
    "        errs.append(error / PLOT_ITER)\n",
    "        accs.append(accuracy / PLOT_ITER)\n",
    "        \n",
    "        error = 0\n",
    "        accuracy = 0\n",
    "    \n",
    "    if (i % LOG_ITER == 0):\n",
    "        print('Iter', i)\n",
    "        print(\"Error :\", overall_err)\n",
    "        print(\"Pred :\", pred)\n",
    "        print(\"True :\", c_bin)\n",
    "        print(a_dec, \"+\", b_dec, \"=\", bin2dec(pred))\n",
    "        print('----------')"
   ]
  },
  {
   "cell_type": "markdown",
   "metadata": {},
   "source": [
    "## Plot learning curve\n",
    "Plot error and accuracy."
   ]
  },
  {
   "cell_type": "code",
   "execution_count": 10,
   "metadata": {},
   "outputs": [
    {
     "data": {
      "text/plain": [
       "<matplotlib.legend.Legend at 0x7f3bfadbfe10>"
      ]
     },
     "execution_count": 10,
     "metadata": {},
     "output_type": "execute_result"
    },
    {
     "data": {
      "image/png": "[encoded data removed]",
      "text/plain": [
       "<Figure size 432x288 with 1 Axes>"
      ]
     },
     "metadata": {},
     "output_type": "display_data"
    }
   ],
   "source": [
    "plt.plot(errs, label='error')\n",
    "plt.plot(accs, label='accuracy')\n",
    "plt.legend()"
   ]
  },
  {
   "cell_type": "code",
   "execution_count": null,
   "metadata": {},
   "outputs": [],
   "source": []
  }
 ],
 "metadata": {
  "kernelspec": {
   "display_name": "Python 3",
   "language": "python",
   "name": "python3"
  },
  "language_info": {
   "codemirror_mode": {
    "name": "ipython",
    "version": 3
   },
   "file_extension": ".py",
   "mimetype": "text/x-python",
   "name": "python",
   "nbconvert_exporter": "python",
   "pygments_lexer": "ipython3",
   "version": "3.6.5"
  }
 },
 "nbformat": 4,
 "nbformat_minor": 2
}
